{
  "nbformat": 4,
  "nbformat_minor": 0,
  "metadata": {
    "colab": {
      "provenance": [],
      "authorship_tag": "ABX9TyNmgNgozHqbPgxFKwGDUG7R",
      "include_colab_link": true
    },
    "kernelspec": {
      "name": "python3",
      "display_name": "Python 3"
    },
    "language_info": {
      "name": "python"
    }
  },
  "cells": [
    {
      "cell_type": "markdown",
      "metadata": {
        "id": "view-in-github",
        "colab_type": "text"
      },
      "source": [
        "<a href=\"https://colab.research.google.com/github/gehadmaghawry17/Course/blob/master/Scraping.ipynb\" target=\"_parent\"><img src=\"https://colab.research.google.com/assets/colab-badge.svg\" alt=\"Open In Colab\"/></a>"
      ]
    },
    {
      "cell_type": "code",
      "source": [
        "!pip install googletrans==4.0.0-rc1\n"
      ],
      "metadata": {
        "colab": {
          "base_uri": "https://localhost:8080/",
          "height": 851
        },
        "id": "8cfkx7DLyQ0p",
        "outputId": "5d32aec2-f42d-4e13-88cc-81538c851a6d"
      },
      "execution_count": 55,
      "outputs": [
        {
          "output_type": "stream",
          "name": "stdout",
          "text": [
            "Looking in indexes: https://pypi.org/simple, https://us-python.pkg.dev/colab-wheels/public/simple/\n",
            "Collecting googletrans==4.0.0-rc1\n",
            "  Downloading googletrans-4.0.0rc1.tar.gz (20 kB)\n",
            "  Preparing metadata (setup.py) ... \u001b[?25l\u001b[?25hdone\n",
            "Collecting httpx==0.13.3\n",
            "  Downloading httpx-0.13.3-py3-none-any.whl (55 kB)\n",
            "\u001b[2K     \u001b[90m━━━━━━━━━━━━━━━━━━━━━━━━━━━━━━━━━━━━━━━━\u001b[0m \u001b[32m55.1/55.1 KB\u001b[0m \u001b[31m4.9 MB/s\u001b[0m eta \u001b[36m0:00:00\u001b[0m\n",
            "\u001b[?25hCollecting hstspreload\n",
            "  Downloading hstspreload-2023.1.1-py3-none-any.whl (1.5 MB)\n",
            "\u001b[2K     \u001b[90m━━━━━━━━━━━━━━━━━━━━━━━━━━━━━━━━━━━━━━━━\u001b[0m \u001b[32m1.5/1.5 MB\u001b[0m \u001b[31m41.2 MB/s\u001b[0m eta \u001b[36m0:00:00\u001b[0m\n",
            "\u001b[?25hCollecting rfc3986<2,>=1.3\n",
            "  Downloading rfc3986-1.5.0-py2.py3-none-any.whl (31 kB)\n",
            "Requirement already satisfied: certifi in /usr/local/lib/python3.8/dist-packages (from httpx==0.13.3->googletrans==4.0.0-rc1) (2022.12.7)\n",
            "Requirement already satisfied: idna==2.* in /usr/local/lib/python3.8/dist-packages (from httpx==0.13.3->googletrans==4.0.0-rc1) (2.10)\n",
            "Collecting sniffio\n",
            "  Downloading sniffio-1.3.0-py3-none-any.whl (10 kB)\n",
            "Collecting httpcore==0.9.*\n",
            "  Downloading httpcore-0.9.1-py3-none-any.whl (42 kB)\n",
            "\u001b[2K     \u001b[90m━━━━━━━━━━━━━━━━━━━━━━━━━━━━━━━━━━━━━━━━\u001b[0m \u001b[32m42.6/42.6 KB\u001b[0m \u001b[31m4.9 MB/s\u001b[0m eta \u001b[36m0:00:00\u001b[0m\n",
            "\u001b[?25hCollecting chardet==3.*\n",
            "  Downloading chardet-3.0.4-py2.py3-none-any.whl (133 kB)\n",
            "\u001b[2K     \u001b[90m━━━━━━━━━━━━━━━━━━━━━━━━━━━━━━━━━━━━━━\u001b[0m \u001b[32m133.4/133.4 KB\u001b[0m \u001b[31m12.5 MB/s\u001b[0m eta \u001b[36m0:00:00\u001b[0m\n",
            "\u001b[?25hCollecting h2==3.*\n",
            "  Downloading h2-3.2.0-py2.py3-none-any.whl (65 kB)\n",
            "\u001b[2K     \u001b[90m━━━━━━━━━━━━━━━━━━━━━━━━━━━━━━━━━━━━━━━━\u001b[0m \u001b[32m65.0/65.0 KB\u001b[0m \u001b[31m7.2 MB/s\u001b[0m eta \u001b[36m0:00:00\u001b[0m\n",
            "\u001b[?25hCollecting h11<0.10,>=0.8\n",
            "  Downloading h11-0.9.0-py2.py3-none-any.whl (53 kB)\n",
            "\u001b[2K     \u001b[90m━━━━━━━━━━━━━━━━━━━━━━━━━━━━━━━━━━━━━━━━\u001b[0m \u001b[32m53.6/53.6 KB\u001b[0m \u001b[31m5.8 MB/s\u001b[0m eta \u001b[36m0:00:00\u001b[0m\n",
            "\u001b[?25hCollecting hyperframe<6,>=5.2.0\n",
            "  Downloading hyperframe-5.2.0-py2.py3-none-any.whl (12 kB)\n",
            "Collecting hpack<4,>=3.0\n",
            "  Downloading hpack-3.0.0-py2.py3-none-any.whl (38 kB)\n",
            "Building wheels for collected packages: googletrans\n",
            "  Building wheel for googletrans (setup.py) ... \u001b[?25l\u001b[?25hdone\n",
            "  Created wheel for googletrans: filename=googletrans-4.0.0rc1-py3-none-any.whl size=17414 sha256=9f7452d9ac7b9ed90c0280ef4a07b2cef743a67ec70d488ef88a5d79677fe6aa\n",
            "  Stored in directory: /root/.cache/pip/wheels/a9/25/af/715361fa79594524c89c75d293def652045f3fdce6ca398712\n",
            "Successfully built googletrans\n",
            "Installing collected packages: rfc3986, hyperframe, hpack, h11, chardet, sniffio, hstspreload, h2, httpcore, httpx, googletrans\n",
            "  Attempting uninstall: chardet\n",
            "    Found existing installation: chardet 4.0.0\n",
            "    Uninstalling chardet-4.0.0:\n",
            "      Successfully uninstalled chardet-4.0.0\n",
            "Successfully installed chardet-3.0.4 googletrans-4.0.0rc1 h11-0.9.0 h2-3.2.0 hpack-3.0.0 hstspreload-2023.1.1 httpcore-0.9.1 httpx-0.13.3 hyperframe-5.2.0 rfc3986-1.5.0 sniffio-1.3.0\n"
          ]
        },
        {
          "output_type": "display_data",
          "data": {
            "application/vnd.colab-display-data+json": {
              "pip_warning": {
                "packages": [
                  "chardet"
                ]
              }
            }
          },
          "metadata": {}
        }
      ]
    },
    {
      "cell_type": "code",
      "execution_count": 52,
      "metadata": {
        "id": "p3ycwMVv-vwE"
      },
      "outputs": [],
      "source": [
        "import requests"
      ]
    },
    {
      "cell_type": "code",
      "source": [
        "from bs4 import BeautifulSoup\n"
      ],
      "metadata": {
        "id": "zMNH7NFZ-VKQ"
      },
      "execution_count": 54,
      "outputs": []
    },
    {
      "cell_type": "code",
      "source": [
        "url = \"https://www.classcentral.com/report/free-certificates/\""
      ],
      "metadata": {
        "id": "f8UuLzTk_BDZ"
      },
      "execution_count": 4,
      "outputs": []
    },
    {
      "cell_type": "code",
      "source": [
        "headers = {'User-Agent':'Mozilla/5.0 (Windows NT 10.0; Win64; x64) AppleWebKit/537.36 (KHTML, like Gecko) Chrome/110.0.0.0 Safari/537.36 Edg/110.0.1587.50'}"
      ],
      "metadata": {
        "id": "q0VfeDBs8GXh"
      },
      "execution_count": 5,
      "outputs": []
    },
    {
      "cell_type": "code",
      "source": [
        "response = requests.get(url, headers=headers)"
      ],
      "metadata": {
        "id": "Op1XedM-8ZMX"
      },
      "execution_count": 6,
      "outputs": []
    },
    {
      "cell_type": "code",
      "source": [
        "response = response.content"
      ],
      "metadata": {
        "id": "VmUdEC6_8u9w"
      },
      "execution_count": 7,
      "outputs": []
    },
    {
      "cell_type": "code",
      "source": [
        "soup = BeautifulSoup(response,'html.parser')"
      ],
      "metadata": {
        "id": "XFD1lSZt-D2d"
      },
      "execution_count": 16,
      "outputs": []
    },
    {
      "cell_type": "code",
      "source": [
        "soup"
      ],
      "metadata": {
        "id": "9rV5ffJI_X6D"
      },
      "execution_count": null,
      "outputs": []
    },
    {
      "cell_type": "code",
      "source": [
        "universities = soup.find('ul',class_='bg-white border-gray-light border-all radius-small list-no-style margin-top-xsmall')"
      ],
      "metadata": {
        "id": "phkz3rN5DPej"
      },
      "execution_count": 29,
      "outputs": []
    },
    {
      "cell_type": "code",
      "source": [
        "uniName= universities.select('span',class_='margin-right-xsmall') \n"
      ],
      "metadata": {
        "colab": {
          "base_uri": "https://localhost:8080/",
          "height": 167
        },
        "id": "Ck2JSdkyirPf",
        "outputId": "490c9741-cab9-4149-a3f8-3eb1fca05eea"
      },
      "execution_count": 38,
      "outputs": [
        {
          "output_type": "error",
          "ename": "AttributeError",
          "evalue": "ignored",
          "traceback": [
            "\u001b[0;31m---------------------------------------------------------------------------\u001b[0m",
            "\u001b[0;31mAttributeError\u001b[0m                            Traceback (most recent call last)",
            "\u001b[0;32m<ipython-input-38-ca932bde0315>\u001b[0m in \u001b[0;36m<module>\u001b[0;34m\u001b[0m\n\u001b[0;32m----> 1\u001b[0;31m \u001b[0muniName\u001b[0m\u001b[0;34m=\u001b[0m \u001b[0muniversities\u001b[0m\u001b[0;34m.\u001b[0m\u001b[0mselect\u001b[0m\u001b[0;34m(\u001b[0m\u001b[0;34m'span'\u001b[0m\u001b[0;34m,\u001b[0m\u001b[0mclass_\u001b[0m\u001b[0;34m=\u001b[0m\u001b[0;34m'margin-right-xsmall'\u001b[0m\u001b[0;34m)\u001b[0m\u001b[0;34m\u001b[0m\u001b[0;34m\u001b[0m\u001b[0m\n\u001b[0m",
            "\u001b[0;31mAttributeError\u001b[0m: 'NoneType' object has no attribute 'select'"
          ]
        }
      ]
    },
    {
      "cell_type": "code",
      "source": [
        "links = soup.find_all('a', class_='color-charcoal')\n"
      ],
      "metadata": {
        "id": "b62UMmVWrDwW"
      },
      "execution_count": 46,
      "outputs": []
    },
    {
      "cell_type": "code",
      "source": [
        "for link in links:\n",
        "    print(link['href'])"
      ],
      "metadata": {
        "colab": {
          "base_uri": "https://localhost:8080/"
        },
        "id": "vCLsbfK4rKE0",
        "outputId": "5586f3aa-c7f4-4f5d-8a26-6857d5b2d9b9"
      },
      "execution_count": 47,
      "outputs": [
        {
          "output_type": "stream",
          "name": "stdout",
          "text": [
            "https://www.classcentral.com/report/author/ruima/\n",
            "https://www.classcentral.com/report/author/heba/\n",
            "https://www.classcentral.com/report/author/manoel/\n",
            "https://www.classcentral.com/report/author/suparn/\n",
            "https://www.classcentral.com/report/tag/free-certificates/\n",
            "https://www.classcentral.com/report/free-developer-it-certifications/\n",
            "https://www.classcentral.com/report/free-google-certifications/\n",
            "https://www.classcentral.com/report/futurelearn-free-certificates/\n",
            "https://www.classcentral.com/report/free-online-learning-coronavirus/\n",
            "https://www.classcentral.com/about\n",
            "/subject/cs\n",
            "/subject/business\n",
            "/subject/humanities\n",
            "/subject/data-science\n",
            "/subject/personal-development\n",
            "/subject/art-and-design\n",
            "/subjects\n",
            "https://www.classcentral.com/subject/cs\n",
            "https://www.classcentral.com/subject/psychology\n",
            "https://www.classcentral.com/subject/cybersecurity\n",
            "https://www.classcentral.com/subject/health\n",
            "https://www.classcentral.com/subject/law\n",
            "https://www.classcentral.com/subject/accounting\n",
            "https://www.classcentral.com/subject/web-development\n",
            "/providers\n",
            "https://www.classcentral.com/provider/coursera\n",
            "https://www.classcentral.com/provider/edx\n",
            "https://www.classcentral.com/provider/futurelearn\n",
            "https://www.classcentral.com/provider/udacity\n",
            "https://www.classcentral.com/provider/swayam\n",
            "https://www.classcentral.com/provider/udemy\n",
            "https://www.classcentral.com/provider/linkedin-learning\n",
            "/universities\n",
            "https://www.classcentral.com/university/harvard\n",
            "https://www.classcentral.com/university/stanford\n",
            "https://www.classcentral.com/university/gatech\n",
            "https://www.classcentral.com/university/umich\n",
            "https://www.classcentral.com/university/purdue\n",
            "https://www.classcentral.com/university/duke\n",
            "https://www.classcentral.com/university/iitm\n",
            "/institutions\n",
            "https://www.classcentral.com/institution/google\n",
            "https://www.classcentral.com/institution/microsoft\n",
            "https://www.classcentral.com/institution/ibm\n",
            "https://www.classcentral.com/institution/amazon\n",
            "https://www.classcentral.com/institution/linuxfoundation\n",
            "https://www.classcentral.com/institution/british-council\n",
            "https://www.classcentral.com/institution/salesforce\n",
            "/rankings\n",
            "https://www.classcentral.com/collection/top-free-online-courses\n",
            "https://www.classcentral.com/report/best-free-online-courses-2022/\n",
            "https://www.classcentral.com/report/most-popular-online-courses/\n",
            "https://www.classcentral.com/report/most-popular-courses-2022/\n",
            "https://www.classcentral.com/report/coursera-top-courses/\n",
            "https://www.classcentral.com/report/edx-top-courses/\n",
            "https://www.classcentral.com/report/udemy-top-courses/\n",
            "/report/\n",
            "https://www.classcentral.com/report/2022-year-in-review/\n",
            "https://www.classcentral.com/report/class-central-ddos-attack/\n",
            "https://www.classcentral.com/report/india-online-degrees/\n",
            "https://www.classcentral.com/report/cs50-free-certificate/\n",
            "https://www.classcentral.com/report/open-university-insiders-perspective/\n",
            "https://www.classcentral.com/report/free-certificates/\n",
            "https://www.classcentral.com/report/google-free-certificates/\n",
            "https://www.classcentral.com/report/linkedin-learning-free-learning-paths/\n",
            "https://www.classcentral.com/report/coursera-free-online-courses/\n",
            "https://www.classcentral.com/collection/ivy-league-moocs/\n",
            "https://www.classcentral.com/report/writing-free-online-courses/\n",
            "/about\n",
            "/about/privacy-policy\n",
            "https://www.classcentral.com/about\n",
            "https://www.classcentral.com/about/careers\n",
            "https://www.classcentral.com/help\n",
            "https://www.classcentral.com/contact\n"
          ]
        }
      ]
    },
    {
      "cell_type": "code",
      "source": [
        "links"
      ],
      "metadata": {
        "id": "_PK5B8o3rSy0"
      },
      "execution_count": null,
      "outputs": []
    },
    {
      "cell_type": "code",
      "source": [
        "from bs4 import BeautifulSoup\n",
        "from googletrans import Translator"
      ],
      "metadata": {
        "colab": {
          "base_uri": "https://localhost:8080/",
          "height": 323
        },
        "id": "XZ2qJmhkxPGa",
        "outputId": "0991cfbd-d851-4f7a-9c1e-f9821d964a75"
      },
      "execution_count": 50,
      "outputs": [
        {
          "output_type": "error",
          "ename": "ModuleNotFoundError",
          "evalue": "ignored",
          "traceback": [
            "\u001b[0;31m---------------------------------------------------------------------------\u001b[0m",
            "\u001b[0;31mModuleNotFoundError\u001b[0m                       Traceback (most recent call last)",
            "\u001b[0;32m<ipython-input-50-802ff67ff3d6>\u001b[0m in \u001b[0;36m<module>\u001b[0;34m\u001b[0m\n\u001b[1;32m      1\u001b[0m \u001b[0;32mfrom\u001b[0m \u001b[0mbs4\u001b[0m \u001b[0;32mimport\u001b[0m \u001b[0mBeautifulSoup\u001b[0m\u001b[0;34m\u001b[0m\u001b[0;34m\u001b[0m\u001b[0m\n\u001b[0;32m----> 2\u001b[0;31m \u001b[0;32mfrom\u001b[0m \u001b[0mgoogletrans\u001b[0m \u001b[0;32mimport\u001b[0m \u001b[0mTranslator\u001b[0m\u001b[0;34m\u001b[0m\u001b[0;34m\u001b[0m\u001b[0m\n\u001b[0m",
            "\u001b[0;31mModuleNotFoundError\u001b[0m: No module named 'googletrans'",
            "",
            "\u001b[0;31m---------------------------------------------------------------------------\u001b[0;32m\nNOTE: If your import is failing due to a missing package, you can\nmanually install dependencies using either !pip or !apt.\n\nTo view examples of installing some common dependencies, click the\n\"Open Examples\" button below.\n\u001b[0;31m---------------------------------------------------------------------------\u001b[0m\n"
          ],
          "errorDetails": {
            "actions": [
              {
                "action": "open_url",
                "actionText": "Open Examples",
                "url": "/notebooks/snippets/importing_libraries.ipynb"
              }
            ]
          }
        }
      ]
    }
  ]
}